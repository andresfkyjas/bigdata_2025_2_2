{
 "cells": [
  {
   "cell_type": "markdown",
   "metadata": {
    "application/vnd.databricks.v1+cell": {
     "cellMetadata": {},
     "inputWidgets": {},
     "nuid": "2ac5feaf-58b3-40e1-9cc6-d1dd65b0d154",
     "showTitle": false,
     "tableResultSettingsMap": {},
     "title": ""
    }
   },
   "source": [
    "### Dataframe datos administrativos"
   ]
  },
  {
   "cell_type": "code",
   "execution_count": 0,
   "metadata": {
    "application/vnd.databricks.v1+cell": {
     "cellMetadata": {
      "byteLimit": 2048000,
      "rowLimit": 10000
     },
     "inputWidgets": {},
     "nuid": "9d5b05b6-681c-498d-a91b-8dc5f2fa8f32",
     "showTitle": false,
     "tableResultSettingsMap": {},
     "title": ""
    }
   },
   "outputs": [
    {
     "output_type": "display_data",
     "data": {
      "text/html": [
       "<style scoped>\n",
       "  .table-result-container {\n",
       "    max-height: 300px;\n",
       "    overflow: auto;\n",
       "  }\n",
       "  table, th, td {\n",
       "    border: 1px solid black;\n",
       "    border-collapse: collapse;\n",
       "  }\n",
       "  th, td {\n",
       "    padding: 5px;\n",
       "  }\n",
       "  th {\n",
       "    text-align: left;\n",
       "  }\n",
       "</style><div class='table-result-container'><table class='table-result'><thead style='background-color: white'><tr><th>id_pintura</th><th>esquema_version</th><th>responsable_registro</th><th>politica_acceso</th><th>fecha_ultima_actualizacion</th><th>nivel_de_confianza</th><th>acceso_publico</th><th>comentarios_arqueologos</th></tr></thead><tbody><tr><td>1</td><td>v1.5</td><td>curador.altamira</td><td>restringido</td><td>2025-04-20</td><td>3,6</td><td>VERDADERO</td><td>requiere control de humedad</td></tr><tr><td>2</td><td>v1.9</td><td>curador.altamira</td><td>interno</td><td>2020-05-29</td><td>3,6</td><td>FALSO</td><td>estable</td></tr><tr><td>3</td><td>v1.1</td><td>curador.altamira</td><td>público</td><td>2024-03-07</td><td>4,1</td><td>VERDADERO</td><td>microfisuras leves</td></tr><tr><td>4</td><td>v1.9</td><td>curador.altamira</td><td>interno</td><td>2024-07-26</td><td>4,1</td><td>VERDADERO</td><td>OK</td></tr><tr><td>5</td><td>v1.8</td><td>curador.altamira</td><td>restringido</td><td>2022-09-13</td><td>3,7</td><td>VERDADERO</td><td>requiere control de humedad</td></tr><tr><td>6</td><td>v1.8</td><td>admin.catalogo</td><td>público</td><td>2019-02-27</td><td>4,4</td><td>VERDADERO</td><td>requiere control de humedad</td></tr><tr><td>7</td><td>v1.1</td><td>admin.catalogo</td><td>interno</td><td>2018-09-15</td><td>4,3</td><td>VERDADERO</td><td>estable</td></tr><tr><td>8</td><td>v1.8</td><td>curador.lascaux</td><td>restringido</td><td>2023-03-23</td><td>4,4</td><td>FALSO</td><td>requiere control de humedad</td></tr><tr><td>9</td><td>v1.4</td><td>curador.altamira</td><td>público</td><td>2020-09-26</td><td>3,6</td><td>FALSO</td><td>estable</td></tr><tr><td>10</td><td>v1.5</td><td>admin.catalogo</td><td>restringido</td><td>2021-03-25</td><td>4,4</td><td>VERDADERO</td><td>OK</td></tr><tr><td>11</td><td>v1.8</td><td>curador.lascaux</td><td>público</td><td>2021-11-02</td><td>3,7</td><td>FALSO</td><td>estable</td></tr><tr><td>12</td><td>v1.0</td><td>admin.catalogo</td><td>público</td><td>2024-04-04</td><td>4,4</td><td>FALSO</td><td>requiere control de humedad</td></tr><tr><td>13</td><td>v1.5</td><td>admin.catalogo</td><td>restringido</td><td>2024-07-03</td><td>4,7</td><td>VERDADERO</td><td>OK</td></tr><tr><td>14</td><td>v1.4</td><td>curador.lascaux</td><td>interno</td><td>2025-06-13</td><td>3,6</td><td>FALSO</td><td>estable</td></tr><tr><td>15</td><td>v1.4</td><td>admin.catalogo</td><td>restringido</td><td>2025-07-01</td><td>4</td><td>FALSO</td><td>requiere control de humedad</td></tr><tr><td>16</td><td>v1.2</td><td>admin.catalogo</td><td>público</td><td>2023-07-16</td><td>3,6</td><td>FALSO</td><td>microfisuras leves</td></tr><tr><td>17</td><td>v1.3</td><td>curador.lascaux</td><td>restringido</td><td>2023-07-27</td><td>3,6</td><td>FALSO</td><td>estable</td></tr><tr><td>18</td><td>v1.8</td><td>curador.lascaux</td><td>público</td><td>2022-10-30</td><td>4,8</td><td>FALSO</td><td>estable</td></tr><tr><td>19</td><td>v1.5</td><td>admin.catalogo</td><td>restringido</td><td>2020-08-03</td><td>3,7</td><td>VERDADERO</td><td>microfisuras leves</td></tr><tr><td>20</td><td>v1.3</td><td>admin.catalogo</td><td>público</td><td>2018-02-19</td><td>4,2</td><td>VERDADERO</td><td>requiere control de humedad</td></tr><tr><td>21</td><td>v1.4</td><td>curador.altamira</td><td>público</td><td>2022-09-13</td><td>4,3</td><td>FALSO</td><td>microfisuras leves</td></tr><tr><td>22</td><td>v1.8</td><td>admin.catalogo</td><td>interno</td><td>2025-08-01</td><td>4,6</td><td>FALSO</td><td>estable</td></tr><tr><td>23</td><td>v1.6</td><td>curador.lascaux</td><td>restringido</td><td>2019-03-01</td><td>4,2</td><td>FALSO</td><td>OK</td></tr><tr><td>24</td><td>v1.3</td><td>curador.altamira</td><td>público</td><td>2022-12-10</td><td>3,7</td><td>FALSO</td><td>OK</td></tr><tr><td>25</td><td>v1.1</td><td>curador.altamira</td><td>interno</td><td>2019-09-12</td><td>4,3</td><td>FALSO</td><td>OK</td></tr><tr><td>26</td><td>v1.1</td><td>curador.altamira</td><td>interno</td><td>2022-03-22</td><td>3,7</td><td>FALSO</td><td>requiere control de humedad</td></tr><tr><td>27</td><td>v1.9</td><td>curador.lascaux</td><td>restringido</td><td>2019-05-19</td><td>3,7</td><td>FALSO</td><td>estable</td></tr><tr><td>28</td><td>v1.7</td><td>curador.lascaux</td><td>restringido</td><td>2018-12-18</td><td>3,7</td><td>FALSO</td><td>requiere control de humedad</td></tr><tr><td>29</td><td>v1.7</td><td>admin.catalogo</td><td>público</td><td>2023-10-16</td><td>3,5</td><td>FALSO</td><td>microfisuras leves</td></tr><tr><td>30</td><td>v1.8</td><td>curador.altamira</td><td>interno</td><td>2021-05-05</td><td>5</td><td>VERDADERO</td><td>requiere control de humedad</td></tr><tr><td>31</td><td>v1.8</td><td>curador.lascaux</td><td>público</td><td>2021-12-27</td><td>4,7</td><td>FALSO</td><td>microfisuras leves</td></tr><tr><td>32</td><td>v1.9</td><td>curador.altamira</td><td>público</td><td>2022-06-30</td><td>4,6</td><td>VERDADERO</td><td>microfisuras leves</td></tr><tr><td>33</td><td>v1.8</td><td>curador.lascaux</td><td>restringido</td><td>2018-04-29</td><td>5</td><td>FALSO</td><td>estable</td></tr><tr><td>34</td><td>v1.4</td><td>curador.altamira</td><td>interno</td><td>2024-10-14</td><td>4,9</td><td>FALSO</td><td>requiere control de humedad</td></tr><tr><td>35</td><td>v1.5</td><td>curador.altamira</td><td>público</td><td>2019-02-23</td><td>3,8</td><td>VERDADERO</td><td>requiere control de humedad</td></tr><tr><td>36</td><td>v1.3</td><td>curador.lascaux</td><td>interno</td><td>2024-11-04</td><td>4,8</td><td>FALSO</td><td>requiere control de humedad</td></tr><tr><td>37</td><td>v1.1</td><td>admin.catalogo</td><td>público</td><td>2022-05-11</td><td>4,7</td><td>VERDADERO</td><td>estable</td></tr><tr><td>38</td><td>v1.2</td><td>curador.lascaux</td><td>interno</td><td>2021-09-23</td><td>3,6</td><td>FALSO</td><td>estable</td></tr><tr><td>39</td><td>v1.6</td><td>admin.catalogo</td><td>público</td><td>2019-10-13</td><td>3,8</td><td>VERDADERO</td><td>OK</td></tr><tr><td>40</td><td>v1.2</td><td>admin.catalogo</td><td>restringido</td><td>2025-05-10</td><td>3,7</td><td>FALSO</td><td>requiere control de humedad</td></tr><tr><td>41</td><td>v1.2</td><td>admin.catalogo</td><td>interno</td><td>2019-06-21</td><td>3,5</td><td>VERDADERO</td><td>microfisuras leves</td></tr><tr><td>42</td><td>v1.6</td><td>curador.altamira</td><td>público</td><td>2018-04-25</td><td>3,9</td><td>FALSO</td><td>microfisuras leves</td></tr><tr><td>43</td><td>v1.9</td><td>curador.lascaux</td><td>restringido</td><td>2024-02-08</td><td>4,1</td><td>VERDADERO</td><td>OK</td></tr><tr><td>44</td><td>v1.5</td><td>curador.lascaux</td><td>interno</td><td>2024-07-17</td><td>4,7</td><td>FALSO</td><td>microfisuras leves</td></tr><tr><td>45</td><td>v1.8</td><td>curador.altamira</td><td>interno</td><td>2023-09-23</td><td>3,5</td><td>FALSO</td><td>microfisuras leves</td></tr><tr><td>46</td><td>v1.9</td><td>curador.altamira</td><td>público</td><td>2019-12-07</td><td>3,7</td><td>VERDADERO</td><td>OK</td></tr><tr><td>47</td><td>v1.5</td><td>admin.catalogo</td><td>interno</td><td>2023-12-14</td><td>4,3</td><td>VERDADERO</td><td>OK</td></tr><tr><td>48</td><td>v1.3</td><td>curador.altamira</td><td>restringido</td><td>2018-06-22</td><td>4,7</td><td>FALSO</td><td>OK</td></tr><tr><td>49</td><td>v1.1</td><td>curador.lascaux</td><td>restringido</td><td>2024-11-13</td><td>5</td><td>VERDADERO</td><td>requiere control de humedad</td></tr><tr><td>50</td><td>v1.7</td><td>admin.catalogo</td><td>interno</td><td>2023-05-13</td><td>4,3</td><td>VERDADERO</td><td>requiere control de humedad</td></tr><tr><td>51</td><td>v1.8</td><td>curador.altamira</td><td>restringido</td><td>2019-07-16</td><td>4,1</td><td>FALSO</td><td>estable</td></tr><tr><td>52</td><td>v1.5</td><td>curador.altamira</td><td>interno</td><td>2020-09-12</td><td>4,1</td><td>VERDADERO</td><td>requiere control de humedad</td></tr><tr><td>53</td><td>v1.1</td><td>curador.altamira</td><td>interno</td><td>2025-03-20</td><td>4,5</td><td>VERDADERO</td><td>requiere control de humedad</td></tr><tr><td>54</td><td>v1.2</td><td>curador.lascaux</td><td>público</td><td>2019-01-21</td><td>4,1</td><td>FALSO</td><td>microfisuras leves</td></tr><tr><td>55</td><td>v1.3</td><td>curador.altamira</td><td>interno</td><td>2022-11-03</td><td>5</td><td>FALSO</td><td>requiere control de humedad</td></tr><tr><td>56</td><td>v1.6</td><td>curador.altamira</td><td>restringido</td><td>2021-07-28</td><td>3,6</td><td>FALSO</td><td>OK</td></tr><tr><td>57</td><td>v1.5</td><td>admin.catalogo</td><td>restringido</td><td>2022-12-10</td><td>4,6</td><td>FALSO</td><td>requiere control de humedad</td></tr><tr><td>58</td><td>v1.8</td><td>admin.catalogo</td><td>restringido</td><td>2023-09-30</td><td>4,9</td><td>VERDADERO</td><td>microfisuras leves</td></tr><tr><td>59</td><td>v1.1</td><td>curador.altamira</td><td>restringido</td><td>2021-01-18</td><td>3,6</td><td>VERDADERO</td><td>requiere control de humedad</td></tr><tr><td>60</td><td>v1.2</td><td>curador.lascaux</td><td>interno</td><td>2020-11-25</td><td>4,1</td><td>FALSO</td><td>requiere control de humedad</td></tr><tr><td>61</td><td>v1.1</td><td>curador.lascaux</td><td>público</td><td>2025-09-19</td><td>3,8</td><td>VERDADERO</td><td>requiere control de humedad</td></tr><tr><td>62</td><td>v1.0</td><td>admin.catalogo</td><td>público</td><td>2020-12-03</td><td>3,6</td><td>VERDADERO</td><td>OK</td></tr><tr><td>63</td><td>v1.4</td><td>curador.altamira</td><td>restringido</td><td>2018-02-17</td><td>4</td><td>FALSO</td><td>requiere control de humedad</td></tr><tr><td>64</td><td>v1.9</td><td>curador.altamira</td><td>público</td><td>2023-11-29</td><td>4,6</td><td>VERDADERO</td><td>microfisuras leves</td></tr><tr><td>65</td><td>v1.4</td><td>curador.altamira</td><td>público</td><td>2020-04-06</td><td>4,9</td><td>FALSO</td><td>microfisuras leves</td></tr><tr><td>66</td><td>v1.4</td><td>curador.lascaux</td><td>interno</td><td>2025-07-16</td><td>3,8</td><td>FALSO</td><td>OK</td></tr><tr><td>67</td><td>v1.4</td><td>curador.altamira</td><td>público</td><td>2018-03-17</td><td>4,6</td><td>VERDADERO</td><td>estable</td></tr><tr><td>68</td><td>v1.3</td><td>curador.lascaux</td><td>público</td><td>2025-05-20</td><td>4,7</td><td>FALSO</td><td>estable</td></tr><tr><td>69</td><td>v1.8</td><td>curador.lascaux</td><td>interno</td><td>2021-06-14</td><td>4,5</td><td>VERDADERO</td><td>requiere control de humedad</td></tr><tr><td>70</td><td>v1.3</td><td>admin.catalogo</td><td>interno</td><td>2025-02-17</td><td>3,7</td><td>FALSO</td><td>OK</td></tr><tr><td>71</td><td>v1.2</td><td>curador.altamira</td><td>público</td><td>2025-01-05</td><td>4,6</td><td>FALSO</td><td>estable</td></tr><tr><td>72</td><td>v1.2</td><td>curador.altamira</td><td>público</td><td>2025-06-17</td><td>4,8</td><td>FALSO</td><td>microfisuras leves</td></tr><tr><td>73</td><td>v1.4</td><td>curador.altamira</td><td>restringido</td><td>2020-01-30</td><td>3,7</td><td>FALSO</td><td>OK</td></tr><tr><td>74</td><td>v1.4</td><td>curador.lascaux</td><td>restringido</td><td>2024-02-19</td><td>4</td><td>VERDADERO</td><td>requiere control de humedad</td></tr><tr><td>75</td><td>v1.3</td><td>curador.lascaux</td><td>público</td><td>2018-01-05</td><td>4</td><td>VERDADERO</td><td>estable</td></tr><tr><td>76</td><td>v1.4</td><td>admin.catalogo</td><td>interno</td><td>2020-04-03</td><td>3,9</td><td>VERDADERO</td><td>OK</td></tr><tr><td>77</td><td>v1.4</td><td>curador.altamira</td><td>público</td><td>2022-06-25</td><td>4,4</td><td>FALSO</td><td>OK</td></tr><tr><td>78</td><td>v1.4</td><td>curador.lascaux</td><td>interno</td><td>2020-08-11</td><td>3,6</td><td>VERDADERO</td><td>estable</td></tr><tr><td>79</td><td>v1.5</td><td>admin.catalogo</td><td>restringido</td><td>2019-09-05</td><td>3,9</td><td>VERDADERO</td><td>OK</td></tr><tr><td>80</td><td>v1.8</td><td>admin.catalogo</td><td>restringido</td><td>2023-09-02</td><td>3,7</td><td>VERDADERO</td><td>microfisuras leves</td></tr><tr><td>81</td><td>v1.1</td><td>curador.altamira</td><td>público</td><td>2019-06-30</td><td>4,5</td><td>VERDADERO</td><td>estable</td></tr><tr><td>82</td><td>v1.7</td><td>admin.catalogo</td><td>público</td><td>2025-01-15</td><td>3,5</td><td>VERDADERO</td><td>estable</td></tr><tr><td>83</td><td>v1.4</td><td>curador.altamira</td><td>restringido</td><td>2018-10-15</td><td>4,6</td><td>VERDADERO</td><td>OK</td></tr><tr><td>84</td><td>v1.7</td><td>curador.lascaux</td><td>público</td><td>2020-12-23</td><td>3,9</td><td>VERDADERO</td><td>microfisuras leves</td></tr><tr><td>85</td><td>v1.7</td><td>curador.lascaux</td><td>restringido</td><td>2018-11-11</td><td>4,2</td><td>FALSO</td><td>OK</td></tr><tr><td>86</td><td>v1.9</td><td>admin.catalogo</td><td>interno</td><td>2020-03-23</td><td>3,6</td><td>VERDADERO</td><td>requiere control de humedad</td></tr><tr><td>87</td><td>v1.4</td><td>admin.catalogo</td><td>interno</td><td>2025-10-09</td><td>4</td><td>VERDADERO</td><td>OK</td></tr><tr><td>88</td><td>v1.7</td><td>curador.altamira</td><td>restringido</td><td>2021-01-05</td><td>5</td><td>VERDADERO</td><td>microfisuras leves</td></tr><tr><td>89</td><td>v1.7</td><td>curador.lascaux</td><td>interno</td><td>2023-10-17</td><td>3,9</td><td>FALSO</td><td>estable</td></tr><tr><td>90</td><td>v1.1</td><td>admin.catalogo</td><td>público</td><td>2021-06-30</td><td>5</td><td>FALSO</td><td>OK</td></tr><tr><td>91</td><td>v1.4</td><td>curador.lascaux</td><td>público</td><td>2023-09-07</td><td>5</td><td>FALSO</td><td>requiere control de humedad</td></tr><tr><td>92</td><td>v1.6</td><td>curador.altamira</td><td>público</td><td>2018-11-02</td><td>4,4</td><td>VERDADERO</td><td>requiere control de humedad</td></tr><tr><td>93</td><td>v1.5</td><td>curador.altamira</td><td>interno</td><td>2025-01-31</td><td>4,3</td><td>VERDADERO</td><td>requiere control de humedad</td></tr><tr><td>94</td><td>v1.3</td><td>curador.lascaux</td><td>restringido</td><td>2022-06-03</td><td>3,5</td><td>VERDADERO</td><td>estable</td></tr><tr><td>95</td><td>v1.7</td><td>curador.lascaux</td><td>restringido</td><td>2019-07-31</td><td>4,1</td><td>FALSO</td><td>requiere control de humedad</td></tr><tr><td>96</td><td>v1.1</td><td>curador.lascaux</td><td>público</td><td>2021-08-22</td><td>4,6</td><td>FALSO</td><td>OK</td></tr><tr><td>97</td><td>v1.3</td><td>admin.catalogo</td><td>público</td><td>2021-04-02</td><td>3,9</td><td>VERDADERO</td><td>estable</td></tr><tr><td>98</td><td>v1.6</td><td>admin.catalogo</td><td>público</td><td>2022-01-17</td><td>4,9</td><td>FALSO</td><td>OK</td></tr><tr><td>99</td><td>v1.4</td><td>curador.altamira</td><td>público</td><td>2025-06-04</td><td>3,9</td><td>VERDADERO</td><td>microfisuras leves</td></tr><tr><td>100</td><td>v1.4</td><td>curador.lascaux</td><td>interno</td><td>2021-07-16</td><td>3,8</td><td>FALSO</td><td>estable</td></tr></tbody></table></div>"
      ]
     },
     "metadata": {
      "application/vnd.databricks.v1+output": {
       "addedWidgets": {},
       "aggData": [],
       "aggError": "",
       "aggOverflow": false,
       "aggSchema": [],
       "aggSeriesLimitReached": false,
       "aggType": "",
       "arguments": {},
       "columnCustomDisplayInfos": {},
       "data": [
        [
         "1",
         "v1.5",
         "curador.altamira",
         "restringido",
         "2025-04-20",
         "3,6",
         "VERDADERO",
         "requiere control de humedad"
        ],
        [
         "2",
         "v1.9",
         "curador.altamira",
         "interno",
         "2020-05-29",
         "3,6",
         "FALSO",
         "estable"
        ],
        [
         "3",
         "v1.1",
         "curador.altamira",
         "público",
         "2024-03-07",
         "4,1",
         "VERDADERO",
         "microfisuras leves"
        ],
        [
         "4",
         "v1.9",
         "curador.altamira",
         "interno",
         "2024-07-26",
         "4,1",
         "VERDADERO",
         "OK"
        ],
        [
         "5",
         "v1.8",
         "curador.altamira",
         "restringido",
         "2022-09-13",
         "3,7",
         "VERDADERO",
         "requiere control de humedad"
        ],
        [
         "6",
         "v1.8",
         "admin.catalogo",
         "público",
         "2019-02-27",
         "4,4",
         "VERDADERO",
         "requiere control de humedad"
        ],
        [
         "7",
         "v1.1",
         "admin.catalogo",
         "interno",
         "2018-09-15",
         "4,3",
         "VERDADERO",
         "estable"
        ],
        [
         "8",
         "v1.8",
         "curador.lascaux",
         "restringido",
         "2023-03-23",
         "4,4",
         "FALSO",
         "requiere control de humedad"
        ],
        [
         "9",
         "v1.4",
         "curador.altamira",
         "público",
         "2020-09-26",
         "3,6",
         "FALSO",
         "estable"
        ],
        [
         "10",
         "v1.5",
         "admin.catalogo",
         "restringido",
         "2021-03-25",
         "4,4",
         "VERDADERO",
         "OK"
        ],
        [
         "11",
         "v1.8",
         "curador.lascaux",
         "público",
         "2021-11-02",
         "3,7",
         "FALSO",
         "estable"
        ],
        [
         "12",
         "v1.0",
         "admin.catalogo",
         "público",
         "2024-04-04",
         "4,4",
         "FALSO",
         "requiere control de humedad"
        ],
        [
         "13",
         "v1.5",
         "admin.catalogo",
         "restringido",
         "2024-07-03",
         "4,7",
         "VERDADERO",
         "OK"
        ],
        [
         "14",
         "v1.4",
         "curador.lascaux",
         "interno",
         "2025-06-13",
         "3,6",
         "FALSO",
         "estable"
        ],
        [
         "15",
         "v1.4",
         "admin.catalogo",
         "restringido",
         "2025-07-01",
         "4",
         "FALSO",
         "requiere control de humedad"
        ],
        [
         "16",
         "v1.2",
         "admin.catalogo",
         "público",
         "2023-07-16",
         "3,6",
         "FALSO",
         "microfisuras leves"
        ],
        [
         "17",
         "v1.3",
         "curador.lascaux",
         "restringido",
         "2023-07-27",
         "3,6",
         "FALSO",
         "estable"
        ],
        [
         "18",
         "v1.8",
         "curador.lascaux",
         "público",
         "2022-10-30",
         "4,8",
         "FALSO",
         "estable"
        ],
        [
         "19",
         "v1.5",
         "admin.catalogo",
         "restringido",
         "2020-08-03",
         "3,7",
         "VERDADERO",
         "microfisuras leves"
        ],
        [
         "20",
         "v1.3",
         "admin.catalogo",
         "público",
         "2018-02-19",
         "4,2",
         "VERDADERO",
         "requiere control de humedad"
        ],
        [
         "21",
         "v1.4",
         "curador.altamira",
         "público",
         "2022-09-13",
         "4,3",
         "FALSO",
         "microfisuras leves"
        ],
        [
         "22",
         "v1.8",
         "admin.catalogo",
         "interno",
         "2025-08-01",
         "4,6",
         "FALSO",
         "estable"
        ],
        [
         "23",
         "v1.6",
         "curador.lascaux",
         "restringido",
         "2019-03-01",
         "4,2",
         "FALSO",
         "OK"
        ],
        [
         "24",
         "v1.3",
         "curador.altamira",
         "público",
         "2022-12-10",
         "3,7",
         "FALSO",
         "OK"
        ],
        [
         "25",
         "v1.1",
         "curador.altamira",
         "interno",
         "2019-09-12",
         "4,3",
         "FALSO",
         "OK"
        ],
        [
         "26",
         "v1.1",
         "curador.altamira",
         "interno",
         "2022-03-22",
         "3,7",
         "FALSO",
         "requiere control de humedad"
        ],
        [
         "27",
         "v1.9",
         "curador.lascaux",
         "restringido",
         "2019-05-19",
         "3,7",
         "FALSO",
         "estable"
        ],
        [
         "28",
         "v1.7",
         "curador.lascaux",
         "restringido",
         "2018-12-18",
         "3,7",
         "FALSO",
         "requiere control de humedad"
        ],
        [
         "29",
         "v1.7",
         "admin.catalogo",
         "público",
         "2023-10-16",
         "3,5",
         "FALSO",
         "microfisuras leves"
        ],
        [
         "30",
         "v1.8",
         "curador.altamira",
         "interno",
         "2021-05-05",
         "5",
         "VERDADERO",
         "requiere control de humedad"
        ],
        [
         "31",
         "v1.8",
         "curador.lascaux",
         "público",
         "2021-12-27",
         "4,7",
         "FALSO",
         "microfisuras leves"
        ],
        [
         "32",
         "v1.9",
         "curador.altamira",
         "público",
         "2022-06-30",
         "4,6",
         "VERDADERO",
         "microfisuras leves"
        ],
        [
         "33",
         "v1.8",
         "curador.lascaux",
         "restringido",
         "2018-04-29",
         "5",
         "FALSO",
         "estable"
        ],
        [
         "34",
         "v1.4",
         "curador.altamira",
         "interno",
         "2024-10-14",
         "4,9",
         "FALSO",
         "requiere control de humedad"
        ],
        [
         "35",
         "v1.5",
         "curador.altamira",
         "público",
         "2019-02-23",
         "3,8",
         "VERDADERO",
         "requiere control de humedad"
        ],
        [
         "36",
         "v1.3",
         "curador.lascaux",
         "interno",
         "2024-11-04",
         "4,8",
         "FALSO",
         "requiere control de humedad"
        ],
        [
         "37",
         "v1.1",
         "admin.catalogo",
         "público",
         "2022-05-11",
         "4,7",
         "VERDADERO",
         "estable"
        ],
        [
         "38",
         "v1.2",
         "curador.lascaux",
         "interno",
         "2021-09-23",
         "3,6",
         "FALSO",
         "estable"
        ],
        [
         "39",
         "v1.6",
         "admin.catalogo",
         "público",
         "2019-10-13",
         "3,8",
         "VERDADERO",
         "OK"
        ],
        [
         "40",
         "v1.2",
         "admin.catalogo",
         "restringido",
         "2025-05-10",
         "3,7",
         "FALSO",
         "requiere control de humedad"
        ],
        [
         "41",
         "v1.2",
         "admin.catalogo",
         "interno",
         "2019-06-21",
         "3,5",
         "VERDADERO",
         "microfisuras leves"
        ],
        [
         "42",
         "v1.6",
         "curador.altamira",
         "público",
         "2018-04-25",
         "3,9",
         "FALSO",
         "microfisuras leves"
        ],
        [
         "43",
         "v1.9",
         "curador.lascaux",
         "restringido",
         "2024-02-08",
         "4,1",
         "VERDADERO",
         "OK"
        ],
        [
         "44",
         "v1.5",
         "curador.lascaux",
         "interno",
         "2024-07-17",
         "4,7",
         "FALSO",
         "microfisuras leves"
        ],
        [
         "45",
         "v1.8",
         "curador.altamira",
         "interno",
         "2023-09-23",
         "3,5",
         "FALSO",
         "microfisuras leves"
        ],
        [
         "46",
         "v1.9",
         "curador.altamira",
         "público",
         "2019-12-07",
         "3,7",
         "VERDADERO",
         "OK"
        ],
        [
         "47",
         "v1.5",
         "admin.catalogo",
         "interno",
         "2023-12-14",
         "4,3",
         "VERDADERO",
         "OK"
        ],
        [
         "48",
         "v1.3",
         "curador.altamira",
         "restringido",
         "2018-06-22",
         "4,7",
         "FALSO",
         "OK"
        ],
        [
         "49",
         "v1.1",
         "curador.lascaux",
         "restringido",
         "2024-11-13",
         "5",
         "VERDADERO",
         "requiere control de humedad"
        ],
        [
         "50",
         "v1.7",
         "admin.catalogo",
         "interno",
         "2023-05-13",
         "4,3",
         "VERDADERO",
         "requiere control de humedad"
        ],
        [
         "51",
         "v1.8",
         "curador.altamira",
         "restringido",
         "2019-07-16",
         "4,1",
         "FALSO",
         "estable"
        ],
        [
         "52",
         "v1.5",
         "curador.altamira",
         "interno",
         "2020-09-12",
         "4,1",
         "VERDADERO",
         "requiere control de humedad"
        ],
        [
         "53",
         "v1.1",
         "curador.altamira",
         "interno",
         "2025-03-20",
         "4,5",
         "VERDADERO",
         "requiere control de humedad"
        ],
        [
         "54",
         "v1.2",
         "curador.lascaux",
         "público",
         "2019-01-21",
         "4,1",
         "FALSO",
         "microfisuras leves"
        ],
        [
         "55",
         "v1.3",
         "curador.altamira",
         "interno",
         "2022-11-03",
         "5",
         "FALSO",
         "requiere control de humedad"
        ],
        [
         "56",
         "v1.6",
         "curador.altamira",
         "restringido",
         "2021-07-28",
         "3,6",
         "FALSO",
         "OK"
        ],
        [
         "57",
         "v1.5",
         "admin.catalogo",
         "restringido",
         "2022-12-10",
         "4,6",
         "FALSO",
         "requiere control de humedad"
        ],
        [
         "58",
         "v1.8",
         "admin.catalogo",
         "restringido",
         "2023-09-30",
         "4,9",
         "VERDADERO",
         "microfisuras leves"
        ],
        [
         "59",
         "v1.1",
         "curador.altamira",
         "restringido",
         "2021-01-18",
         "3,6",
         "VERDADERO",
         "requiere control de humedad"
        ],
        [
         "60",
         "v1.2",
         "curador.lascaux",
         "interno",
         "2020-11-25",
         "4,1",
         "FALSO",
         "requiere control de humedad"
        ],
        [
         "61",
         "v1.1",
         "curador.lascaux",
         "público",
         "2025-09-19",
         "3,8",
         "VERDADERO",
         "requiere control de humedad"
        ],
        [
         "62",
         "v1.0",
         "admin.catalogo",
         "público",
         "2020-12-03",
         "3,6",
         "VERDADERO",
         "OK"
        ],
        [
         "63",
         "v1.4",
         "curador.altamira",
         "restringido",
         "2018-02-17",
         "4",
         "FALSO",
         "requiere control de humedad"
        ],
        [
         "64",
         "v1.9",
         "curador.altamira",
         "público",
         "2023-11-29",
         "4,6",
         "VERDADERO",
         "microfisuras leves"
        ],
        [
         "65",
         "v1.4",
         "curador.altamira",
         "público",
         "2020-04-06",
         "4,9",
         "FALSO",
         "microfisuras leves"
        ],
        [
         "66",
         "v1.4",
         "curador.lascaux",
         "interno",
         "2025-07-16",
         "3,8",
         "FALSO",
         "OK"
        ],
        [
         "67",
         "v1.4",
         "curador.altamira",
         "público",
         "2018-03-17",
         "4,6",
         "VERDADERO",
         "estable"
        ],
        [
         "68",
         "v1.3",
         "curador.lascaux",
         "público",
         "2025-05-20",
         "4,7",
         "FALSO",
         "estable"
        ],
        [
         "69",
         "v1.8",
         "curador.lascaux",
         "interno",
         "2021-06-14",
         "4,5",
         "VERDADERO",
         "requiere control de humedad"
        ],
        [
         "70",
         "v1.3",
         "admin.catalogo",
         "interno",
         "2025-02-17",
         "3,7",
         "FALSO",
         "OK"
        ],
        [
         "71",
         "v1.2",
         "curador.altamira",
         "público",
         "2025-01-05",
         "4,6",
         "FALSO",
         "estable"
        ],
        [
         "72",
         "v1.2",
         "curador.altamira",
         "público",
         "2025-06-17",
         "4,8",
         "FALSO",
         "microfisuras leves"
        ],
        [
         "73",
         "v1.4",
         "curador.altamira",
         "restringido",
         "2020-01-30",
         "3,7",
         "FALSO",
         "OK"
        ],
        [
         "74",
         "v1.4",
         "curador.lascaux",
         "restringido",
         "2024-02-19",
         "4",
         "VERDADERO",
         "requiere control de humedad"
        ],
        [
         "75",
         "v1.3",
         "curador.lascaux",
         "público",
         "2018-01-05",
         "4",
         "VERDADERO",
         "estable"
        ],
        [
         "76",
         "v1.4",
         "admin.catalogo",
         "interno",
         "2020-04-03",
         "3,9",
         "VERDADERO",
         "OK"
        ],
        [
         "77",
         "v1.4",
         "curador.altamira",
         "público",
         "2022-06-25",
         "4,4",
         "FALSO",
         "OK"
        ],
        [
         "78",
         "v1.4",
         "curador.lascaux",
         "interno",
         "2020-08-11",
         "3,6",
         "VERDADERO",
         "estable"
        ],
        [
         "79",
         "v1.5",
         "admin.catalogo",
         "restringido",
         "2019-09-05",
         "3,9",
         "VERDADERO",
         "OK"
        ],
        [
         "80",
         "v1.8",
         "admin.catalogo",
         "restringido",
         "2023-09-02",
         "3,7",
         "VERDADERO",
         "microfisuras leves"
        ],
        [
         "81",
         "v1.1",
         "curador.altamira",
         "público",
         "2019-06-30",
         "4,5",
         "VERDADERO",
         "estable"
        ],
        [
         "82",
         "v1.7",
         "admin.catalogo",
         "público",
         "2025-01-15",
         "3,5",
         "VERDADERO",
         "estable"
        ],
        [
         "83",
         "v1.4",
         "curador.altamira",
         "restringido",
         "2018-10-15",
         "4,6",
         "VERDADERO",
         "OK"
        ],
        [
         "84",
         "v1.7",
         "curador.lascaux",
         "público",
         "2020-12-23",
         "3,9",
         "VERDADERO",
         "microfisuras leves"
        ],
        [
         "85",
         "v1.7",
         "curador.lascaux",
         "restringido",
         "2018-11-11",
         "4,2",
         "FALSO",
         "OK"
        ],
        [
         "86",
         "v1.9",
         "admin.catalogo",
         "interno",
         "2020-03-23",
         "3,6",
         "VERDADERO",
         "requiere control de humedad"
        ],
        [
         "87",
         "v1.4",
         "admin.catalogo",
         "interno",
         "2025-10-09",
         "4",
         "VERDADERO",
         "OK"
        ],
        [
         "88",
         "v1.7",
         "curador.altamira",
         "restringido",
         "2021-01-05",
         "5",
         "VERDADERO",
         "microfisuras leves"
        ],
        [
         "89",
         "v1.7",
         "curador.lascaux",
         "interno",
         "2023-10-17",
         "3,9",
         "FALSO",
         "estable"
        ],
        [
         "90",
         "v1.1",
         "admin.catalogo",
         "público",
         "2021-06-30",
         "5",
         "FALSO",
         "OK"
        ],
        [
         "91",
         "v1.4",
         "curador.lascaux",
         "público",
         "2023-09-07",
         "5",
         "FALSO",
         "requiere control de humedad"
        ],
        [
         "92",
         "v1.6",
         "curador.altamira",
         "público",
         "2018-11-02",
         "4,4",
         "VERDADERO",
         "requiere control de humedad"
        ],
        [
         "93",
         "v1.5",
         "curador.altamira",
         "interno",
         "2025-01-31",
         "4,3",
         "VERDADERO",
         "requiere control de humedad"
        ],
        [
         "94",
         "v1.3",
         "curador.lascaux",
         "restringido",
         "2022-06-03",
         "3,5",
         "VERDADERO",
         "estable"
        ],
        [
         "95",
         "v1.7",
         "curador.lascaux",
         "restringido",
         "2019-07-31",
         "4,1",
         "FALSO",
         "requiere control de humedad"
        ],
        [
         "96",
         "v1.1",
         "curador.lascaux",
         "público",
         "2021-08-22",
         "4,6",
         "FALSO",
         "OK"
        ],
        [
         "97",
         "v1.3",
         "admin.catalogo",
         "público",
         "2021-04-02",
         "3,9",
         "VERDADERO",
         "estable"
        ],
        [
         "98",
         "v1.6",
         "admin.catalogo",
         "público",
         "2022-01-17",
         "4,9",
         "FALSO",
         "OK"
        ],
        [
         "99",
         "v1.4",
         "curador.altamira",
         "público",
         "2025-06-04",
         "3,9",
         "VERDADERO",
         "microfisuras leves"
        ],
        [
         "100",
         "v1.4",
         "curador.lascaux",
         "interno",
         "2021-07-16",
         "3,8",
         "FALSO",
         "estable"
        ]
       ],
       "datasetInfos": [],
       "dbfsResultPath": null,
       "isJsonSchema": true,
       "metadata": {},
       "overflow": false,
       "plotOptions": {
        "customPlotOptions": {},
        "displayType": "table",
        "pivotAggregation": null,
        "pivotColumns": null,
        "xColumns": null,
        "yColumns": null
       },
       "removedWidgets": [],
       "schema": [
        {
         "metadata": "{}",
         "name": "id_pintura",
         "type": "\"string\""
        },
        {
         "metadata": "{}",
         "name": "esquema_version",
         "type": "\"string\""
        },
        {
         "metadata": "{}",
         "name": "responsable_registro",
         "type": "\"string\""
        },
        {
         "metadata": "{}",
         "name": "politica_acceso",
         "type": "\"string\""
        },
        {
         "metadata": "{}",
         "name": "fecha_ultima_actualizacion",
         "type": "\"string\""
        },
        {
         "metadata": "{}",
         "name": "nivel_de_confianza",
         "type": "\"string\""
        },
        {
         "metadata": "{}",
         "name": "acceso_publico",
         "type": "\"string\""
        },
        {
         "metadata": "{}",
         "name": "comentarios_arqueologos",
         "type": "\"string\""
        }
       ],
       "type": "table"
      }
     },
     "output_type": "display_data"
    }
   ],
   "source": [
    "# File location and type\n",
    "file_location = \"/FileStore/tables/bigdata_2_2/db_administrativo.csv\"\n",
    "file_type = \"csv\"\n",
    "\n",
    "# CSV options\n",
    "infer_schema = \"false\"\n",
    "first_row_is_header = \"true\"\n",
    "delimiter = \";\"\n",
    "\n",
    "# The applied options are for CSV files. For other file types, these will be ignored.\n",
    "df_admin = spark.read.format(file_type) \\\n",
    "  .option(\"inferSchema\", infer_schema) \\\n",
    "  .option(\"header\", first_row_is_header) \\\n",
    "  .option(\"sep\", delimiter) \\\n",
    "  .load(file_location)\n",
    "\n",
    "display(df_admin)"
   ]
  },
  {
   "cell_type": "markdown",
   "metadata": {
    "application/vnd.databricks.v1+cell": {
     "cellMetadata": {},
     "inputWidgets": {},
     "nuid": "ba3408cc-2e18-46d5-a214-e00cd89e5277",
     "showTitle": false,
     "tableResultSettingsMap": {},
     "title": ""
    }
   },
   "source": [
    "### Dataframe datos geograficos"
   ]
  },
  {
   "cell_type": "code",
   "execution_count": 0,
   "metadata": {
    "application/vnd.databricks.v1+cell": {
     "cellMetadata": {
      "byteLimit": 2048000,
      "rowLimit": 10000
     },
     "inputWidgets": {},
     "nuid": "5896b180-405a-48f7-98c1-f6328a01f2c8",
     "showTitle": false,
     "tableResultSettingsMap": {},
     "title": ""
    }
   },
   "outputs": [
    {
     "output_type": "display_data",
     "data": {
      "text/html": [
       "<style scoped>\n",
       "  .table-result-container {\n",
       "    max-height: 300px;\n",
       "    overflow: auto;\n",
       "  }\n",
       "  table, th, td {\n",
       "    border: 1px solid black;\n",
       "    border-collapse: collapse;\n",
       "  }\n",
       "  th, td {\n",
       "    padding: 5px;\n",
       "  }\n",
       "  th {\n",
       "    text-align: left;\n",
       "  }\n",
       "</style><div class='table-result-container'><table class='table-result'><thead style='background-color: white'><tr><th>id_pintura</th><th>pais</th><th>region</th><th>sitio_arqueologico</th><th>coordenada_lat</th><th>coordenada_lon</th><th>altitud_msnm</th></tr></thead><tbody><tr><td>1</td><td>Italia</td><td>Piemonte</td><td>Tito Bustillo</td><td>43,768533</td><td>-3,376075</td><td>154</td></tr><tr><td>2</td><td>Italia</td><td>Occitania</td><td>Tito Bustillo</td><td>43,439145</td><td>-4,901048</td><td>120</td></tr><tr><td>3</td><td>Espa�a</td><td>Piemonte</td><td>Lascaux</td><td>43,288981</td><td>-4,427583</td><td>137</td></tr><tr><td>4</td><td>Portugal</td><td>Asturias</td><td>Niaux</td><td>42,944368</td><td>-4,312674</td><td>384</td></tr><tr><td>5</td><td>Portugal</td><td>Occitania</td><td>Tito Bustillo</td><td>42,520338</td><td>-3,688009</td><td>392</td></tr><tr><td>6</td><td>Francia</td><td>Cantabria</td><td>Lascaux</td><td>42,788736</td><td>-4,665335</td><td>306</td></tr><tr><td>7</td><td>Francia</td><td>Occitania</td><td>Chauvet</td><td>43,81192</td><td>-4,005848</td><td>280</td></tr><tr><td>8</td><td>Francia</td><td>Cantabria</td><td>Lascaux</td><td>42,854846</td><td>-3,904429</td><td>225</td></tr><tr><td>9</td><td>Portugal</td><td>Asturias</td><td>Tito Bustillo</td><td>43,111748</td><td>-4,361425</td><td>153</td></tr><tr><td>10</td><td>Italia</td><td>Occitania</td><td>El Castillo</td><td>43,774503</td><td>-3,500685</td><td>318</td></tr><tr><td>11</td><td>Espa�a</td><td>Occitania</td><td>Chauvet</td><td>42,42001</td><td>-4,45952</td><td>344</td></tr><tr><td>12</td><td>Francia</td><td>Cantabria</td><td>Chauvet</td><td>43,935371</td><td>-4,748252</td><td>177</td></tr><tr><td>13</td><td>Italia</td><td>Asturias</td><td>Altamira</td><td>42,769122</td><td>-3,708417</td><td>115</td></tr><tr><td>14</td><td>Italia</td><td>Piemonte</td><td>El Castillo</td><td>42,064487</td><td>-3,580976</td><td>50</td></tr><tr><td>15</td><td>Italia</td><td>Occitania</td><td>Lascaux</td><td>42,146276</td><td>-3,139523</td><td>105</td></tr><tr><td>16</td><td>Espa�a</td><td>Occitania</td><td>Altamira</td><td>42,447601</td><td>-4,695864</td><td>332</td></tr><tr><td>17</td><td>Francia</td><td>Aquitania</td><td>Tito Bustillo</td><td>43,553723</td><td>-4,997268</td><td>69</td></tr><tr><td>18</td><td>Francia</td><td>Asturias</td><td>Tito Bustillo</td><td>43,291012</td><td>-4,392435</td><td>375</td></tr><tr><td>19</td><td>Espa�a</td><td>Cantabria</td><td>Chauvet</td><td>42,874861</td><td>-3,472312</td><td>318</td></tr><tr><td>20</td><td>Portugal</td><td>Aquitania</td><td>Tito Bustillo</td><td>43,887081</td><td>-4,616596</td><td>50</td></tr><tr><td>21</td><td>Italia</td><td>Asturias</td><td>Chauvet</td><td>42,020923</td><td>-4,396957</td><td>380</td></tr><tr><td>22</td><td>Francia</td><td>Piemonte</td><td>Lascaux</td><td>43,678822</td><td>-4,515285</td><td>64</td></tr><tr><td>23</td><td>Portugal</td><td>Cantabria</td><td>Altamira</td><td>43,921228</td><td>-3,590693</td><td>149</td></tr><tr><td>24</td><td>Italia</td><td>Cantabria</td><td>Chauvet</td><td>42,99662</td><td>-3,651073</td><td>166</td></tr><tr><td>25</td><td>Francia</td><td>Occitania</td><td>Altamira</td><td>43,33471</td><td>-3,149678</td><td>223</td></tr><tr><td>26</td><td>Italia</td><td>Aquitania</td><td>Altamira</td><td>43,436664</td><td>-4,27536</td><td>199</td></tr><tr><td>27</td><td>Francia</td><td>Occitania</td><td>Lascaux</td><td>43,478258</td><td>-3,990243</td><td>209</td></tr><tr><td>28</td><td>Italia</td><td>Aquitania</td><td>Chauvet</td><td>43,531714</td><td>-4,612133</td><td>201</td></tr><tr><td>29</td><td>Francia</td><td>Aquitania</td><td>El Castillo</td><td>42,218016</td><td>-3,752806</td><td>263</td></tr><tr><td>30</td><td>Francia</td><td>Occitania</td><td>Altamira</td><td>43,820792</td><td>-4,887166</td><td>159</td></tr><tr><td>31</td><td>Italia</td><td>Cantabria</td><td>Niaux</td><td>42,047257</td><td>-3,807746</td><td>80</td></tr><tr><td>32</td><td>Portugal</td><td>Cantabria</td><td>Altamira</td><td>42,36821</td><td>-4,100716</td><td>134</td></tr><tr><td>33</td><td>Italia</td><td>Cantabria</td><td>Chauvet</td><td>42,658486</td><td>-4,628976</td><td>390</td></tr><tr><td>34</td><td>Portugal</td><td>Occitania</td><td>Lascaux</td><td>43,450755</td><td>-3,321746</td><td>105</td></tr><tr><td>35</td><td>Portugal</td><td>Occitania</td><td>Altamira</td><td>42,005741</td><td>-4,440387</td><td>337</td></tr><tr><td>36</td><td>Portugal</td><td>Asturias</td><td>El Castillo</td><td>43,928542</td><td>-4,585195</td><td>94</td></tr><tr><td>37</td><td>Portugal</td><td>Piemonte</td><td>El Castillo</td><td>42,098515</td><td>-4,053072</td><td>148</td></tr><tr><td>38</td><td>Italia</td><td>Cantabria</td><td>Niaux</td><td>42,646618</td><td>-3,52536</td><td>260</td></tr><tr><td>39</td><td>Italia</td><td>Cantabria</td><td>El Castillo</td><td>42,496026</td><td>-3,749183</td><td>67</td></tr><tr><td>40</td><td>Espa�a</td><td>Asturias</td><td>Lascaux</td><td>42,928101</td><td>-3,393324</td><td>82</td></tr><tr><td>41</td><td>Portugal</td><td>Asturias</td><td>Tito Bustillo</td><td>43,797104</td><td>-4,321861</td><td>72</td></tr><tr><td>42</td><td>Portugal</td><td>Asturias</td><td>Chauvet</td><td>42,524345</td><td>-3,566729</td><td>51</td></tr><tr><td>43</td><td>Espa�a</td><td>Cantabria</td><td>Lascaux</td><td>43,443144</td><td>-3,808864</td><td>104</td></tr><tr><td>44</td><td>Italia</td><td>Asturias</td><td>El Castillo</td><td>42,950378</td><td>-3,086445</td><td>302</td></tr><tr><td>45</td><td>Espa�a</td><td>Asturias</td><td>Niaux</td><td>42,265415</td><td>-4,006919</td><td>127</td></tr><tr><td>46</td><td>Portugal</td><td>Occitania</td><td>Chauvet</td><td>43,214508</td><td>-4,3444</td><td>355</td></tr><tr><td>47</td><td>Francia</td><td>Aquitania</td><td>El Castillo</td><td>42,15803</td><td>-4,605376</td><td>83</td></tr><tr><td>48</td><td>Portugal</td><td>Aquitania</td><td>El Castillo</td><td>43,299092</td><td>-4,03662</td><td>103</td></tr><tr><td>49</td><td>Espa�a</td><td>Aquitania</td><td>Altamira</td><td>43,975648</td><td>-4,470217</td><td>265</td></tr><tr><td>50</td><td>Italia</td><td>Aquitania</td><td>Lascaux</td><td>42,996951</td><td>-3,580458</td><td>118</td></tr><tr><td>51</td><td>Francia</td><td>Piemonte</td><td>Niaux</td><td>42,833681</td><td>-3,759385</td><td>112</td></tr><tr><td>52</td><td>Portugal</td><td>Piemonte</td><td>Chauvet</td><td>43,559501</td><td>-4,412153</td><td>240</td></tr><tr><td>53</td><td>Italia</td><td>Aquitania</td><td>Lascaux</td><td>42,508113</td><td>-4,47933</td><td>175</td></tr><tr><td>54</td><td>Francia</td><td>Asturias</td><td>Altamira</td><td>42,471008</td><td>-4,437292</td><td>252</td></tr><tr><td>55</td><td>Francia</td><td>Cantabria</td><td>Niaux</td><td>42,503307</td><td>-4,508102</td><td>287</td></tr><tr><td>56</td><td>Italia</td><td>Aquitania</td><td>El Castillo</td><td>43,981911</td><td>-4,795335</td><td>241</td></tr><tr><td>57</td><td>Espa�a</td><td>Cantabria</td><td>Lascaux</td><td>42,080724</td><td>-4,412645</td><td>357</td></tr><tr><td>58</td><td>Espa�a</td><td>Asturias</td><td>Tito Bustillo</td><td>43,94593</td><td>-3,833612</td><td>141</td></tr><tr><td>59</td><td>Espa�a</td><td>Cantabria</td><td>Niaux</td><td>42,898228</td><td>-4,480104</td><td>355</td></tr><tr><td>60</td><td>Espa�a</td><td>Asturias</td><td>Chauvet</td><td>43,419412</td><td>-4,300601</td><td>122</td></tr><tr><td>61</td><td>Espa�a</td><td>Piemonte</td><td>Niaux</td><td>42,088333</td><td>-3,000252</td><td>383</td></tr><tr><td>62</td><td>Portugal</td><td>Occitania</td><td>Niaux</td><td>43,82791</td><td>-3,370513</td><td>240</td></tr><tr><td>63</td><td>Francia</td><td>Cantabria</td><td>El Castillo</td><td>42,37029</td><td>-4,375609</td><td>330</td></tr><tr><td>64</td><td>Italia</td><td>Piemonte</td><td>Lascaux</td><td>42,967014</td><td>-4,18366</td><td>377</td></tr><tr><td>65</td><td>Italia</td><td>Asturias</td><td>El Castillo</td><td>43,067994</td><td>-3,693883</td><td>195</td></tr><tr><td>66</td><td>Espa�a</td><td>Asturias</td><td>Niaux</td><td>43,335622</td><td>-4,164309</td><td>340</td></tr><tr><td>67</td><td>Espa�a</td><td>Asturias</td><td>Niaux</td><td>43,76739</td><td>-4,17184</td><td>150</td></tr><tr><td>68</td><td>Espa�a</td><td>Occitania</td><td>Lascaux</td><td>42,781462</td><td>-4,190053</td><td>266</td></tr><tr><td>69</td><td>Portugal</td><td>Occitania</td><td>Lascaux</td><td>42,227079</td><td>-4,819024</td><td>116</td></tr><tr><td>70</td><td>Italia</td><td>Cantabria</td><td>Tito Bustillo</td><td>42,029669</td><td>-3,896904</td><td>368</td></tr><tr><td>71</td><td>Francia</td><td>Aquitania</td><td>Chauvet</td><td>43,854455</td><td>-3,525502</td><td>195</td></tr><tr><td>72</td><td>Espa�a</td><td>Cantabria</td><td>El Castillo</td><td>42,323629</td><td>-4,656429</td><td>301</td></tr><tr><td>73</td><td>Francia</td><td>Asturias</td><td>Lascaux</td><td>43,507112</td><td>-3,41571</td><td>72</td></tr><tr><td>74</td><td>Espa�a</td><td>Piemonte</td><td>Niaux</td><td>43,951093</td><td>-4,034527</td><td>248</td></tr><tr><td>75</td><td>Francia</td><td>Aquitania</td><td>Tito Bustillo</td><td>42,172589</td><td>-3,575379</td><td>257</td></tr><tr><td>76</td><td>Italia</td><td>Aquitania</td><td>Tito Bustillo</td><td>43,229458</td><td>-4,607774</td><td>161</td></tr><tr><td>77</td><td>Francia</td><td>Occitania</td><td>Chauvet</td><td>42,083425</td><td>-3,122902</td><td>113</td></tr><tr><td>78</td><td>Francia</td><td>Cantabria</td><td>Tito Bustillo</td><td>42,298934</td><td>-3,058615</td><td>394</td></tr><tr><td>79</td><td>Espa�a</td><td>Occitania</td><td>Tito Bustillo</td><td>42,076257</td><td>-3,323591</td><td>283</td></tr><tr><td>80</td><td>Portugal</td><td>Occitania</td><td>Chauvet</td><td>43,100104</td><td>-3,745915</td><td>348</td></tr><tr><td>81</td><td>Portugal</td><td>Occitania</td><td>Tito Bustillo</td><td>42,498518</td><td>-4,221576</td><td>274</td></tr><tr><td>82</td><td>Italia</td><td>Occitania</td><td>Lascaux</td><td>42,357528</td><td>-4,992984</td><td>278</td></tr><tr><td>83</td><td>Italia</td><td>Aquitania</td><td>El Castillo</td><td>43,52713</td><td>-3,44005</td><td>254</td></tr><tr><td>84</td><td>Italia</td><td>Asturias</td><td>Altamira</td><td>42,214152</td><td>-4,743088</td><td>276</td></tr><tr><td>85</td><td>Espa�a</td><td>Aquitania</td><td>Altamira</td><td>43,008684</td><td>-3,685808</td><td>210</td></tr><tr><td>86</td><td>Espa�a</td><td>Piemonte</td><td>El Castillo</td><td>43,555272</td><td>-3,977037</td><td>384</td></tr><tr><td>87</td><td>Espa�a</td><td>Piemonte</td><td>Niaux</td><td>43,901736</td><td>-4,727629</td><td>106</td></tr><tr><td>88</td><td>Italia</td><td>Asturias</td><td>Lascaux</td><td>42,387415</td><td>-3,036544</td><td>163</td></tr><tr><td>89</td><td>Portugal</td><td>Aquitania</td><td>Chauvet</td><td>42,131032</td><td>-4,298205</td><td>364</td></tr><tr><td>90</td><td>Francia</td><td>Asturias</td><td>Tito Bustillo</td><td>42,549985</td><td>-3,368747</td><td>295</td></tr><tr><td>91</td><td>Francia</td><td>Asturias</td><td>Chauvet</td><td>42,416647</td><td>-4,474265</td><td>68</td></tr><tr><td>92</td><td>Portugal</td><td>Asturias</td><td>El Castillo</td><td>42,397884</td><td>-4,193069</td><td>136</td></tr><tr><td>93</td><td>Espa�a</td><td>Asturias</td><td>El Castillo</td><td>43,584248</td><td>-4,471318</td><td>334</td></tr><tr><td>94</td><td>Espa�a</td><td>Asturias</td><td>Tito Bustillo</td><td>43,042905</td><td>-3,622543</td><td>372</td></tr><tr><td>95</td><td>Portugal</td><td>Asturias</td><td>El Castillo</td><td>43,713199</td><td>-3,524154</td><td>238</td></tr><tr><td>96</td><td>Espa�a</td><td>Occitania</td><td>Lascaux</td><td>43,154721</td><td>-4,279497</td><td>140</td></tr><tr><td>97</td><td>Portugal</td><td>Piemonte</td><td>Chauvet</td><td>43,230747</td><td>-3,08404</td><td>208</td></tr><tr><td>98</td><td>Portugal</td><td>Cantabria</td><td>Niaux</td><td>43,278476</td><td>-3,03189</td><td>67</td></tr><tr><td>99</td><td>Italia</td><td>Occitania</td><td>Tito Bustillo</td><td>42,443275</td><td>-4,418057</td><td>236</td></tr><tr><td>100</td><td>Francia</td><td>Piemonte</td><td>Niaux</td><td>43,791085</td><td>-4,735953</td><td>73</td></tr></tbody></table></div>"
      ]
     },
     "metadata": {
      "application/vnd.databricks.v1+output": {
       "addedWidgets": {},
       "aggData": [],
       "aggError": "",
       "aggOverflow": false,
       "aggSchema": [],
       "aggSeriesLimitReached": false,
       "aggType": "",
       "arguments": {},
       "columnCustomDisplayInfos": {},
       "data": [
        [
         "1",
         "Italia",
         "Piemonte",
         "Tito Bustillo",
         "43,768533",
         "-3,376075",
         "154"
        ],
        [
         "2",
         "Italia",
         "Occitania",
         "Tito Bustillo",
         "43,439145",
         "-4,901048",
         "120"
        ],
        [
         "3",
         "Espa�a",
         "Piemonte",
         "Lascaux",
         "43,288981",
         "-4,427583",
         "137"
        ],
        [
         "4",
         "Portugal",
         "Asturias",
         "Niaux",
         "42,944368",
         "-4,312674",
         "384"
        ],
        [
         "5",
         "Portugal",
         "Occitania",
         "Tito Bustillo",
         "42,520338",
         "-3,688009",
         "392"
        ],
        [
         "6",
         "Francia",
         "Cantabria",
         "Lascaux",
         "42,788736",
         "-4,665335",
         "306"
        ],
        [
         "7",
         "Francia",
         "Occitania",
         "Chauvet",
         "43,81192",
         "-4,005848",
         "280"
        ],
        [
         "8",
         "Francia",
         "Cantabria",
         "Lascaux",
         "42,854846",
         "-3,904429",
         "225"
        ],
        [
         "9",
         "Portugal",
         "Asturias",
         "Tito Bustillo",
         "43,111748",
         "-4,361425",
         "153"
        ],
        [
         "10",
         "Italia",
         "Occitania",
         "El Castillo",
         "43,774503",
         "-3,500685",
         "318"
        ],
        [
         "11",
         "Espa�a",
         "Occitania",
         "Chauvet",
         "42,42001",
         "-4,45952",
         "344"
        ],
        [
         "12",
         "Francia",
         "Cantabria",
         "Chauvet",
         "43,935371",
         "-4,748252",
         "177"
        ],
        [
         "13",
         "Italia",
         "Asturias",
         "Altamira",
         "42,769122",
         "-3,708417",
         "115"
        ],
        [
         "14",
         "Italia",
         "Piemonte",
         "El Castillo",
         "42,064487",
         "-3,580976",
         "50"
        ],
        [
         "15",
         "Italia",
         "Occitania",
         "Lascaux",
         "42,146276",
         "-3,139523",
         "105"
        ],
        [
         "16",
         "Espa�a",
         "Occitania",
         "Altamira",
         "42,447601",
         "-4,695864",
         "332"
        ],
        [
         "17",
         "Francia",
         "Aquitania",
         "Tito Bustillo",
         "43,553723",
         "-4,997268",
         "69"
        ],
        [
         "18",
         "Francia",
         "Asturias",
         "Tito Bustillo",
         "43,291012",
         "-4,392435",
         "375"
        ],
        [
         "19",
         "Espa�a",
         "Cantabria",
         "Chauvet",
         "42,874861",
         "-3,472312",
         "318"
        ],
        [
         "20",
         "Portugal",
         "Aquitania",
         "Tito Bustillo",
         "43,887081",
         "-4,616596",
         "50"
        ],
        [
         "21",
         "Italia",
         "Asturias",
         "Chauvet",
         "42,020923",
         "-4,396957",
         "380"
        ],
        [
         "22",
         "Francia",
         "Piemonte",
         "Lascaux",
         "43,678822",
         "-4,515285",
         "64"
        ],
        [
         "23",
         "Portugal",
         "Cantabria",
         "Altamira",
         "43,921228",
         "-3,590693",
         "149"
        ],
        [
         "24",
         "Italia",
         "Cantabria",
         "Chauvet",
         "42,99662",
         "-3,651073",
         "166"
        ],
        [
         "25",
         "Francia",
         "Occitania",
         "Altamira",
         "43,33471",
         "-3,149678",
         "223"
        ],
        [
         "26",
         "Italia",
         "Aquitania",
         "Altamira",
         "43,436664",
         "-4,27536",
         "199"
        ],
        [
         "27",
         "Francia",
         "Occitania",
         "Lascaux",
         "43,478258",
         "-3,990243",
         "209"
        ],
        [
         "28",
         "Italia",
         "Aquitania",
         "Chauvet",
         "43,531714",
         "-4,612133",
         "201"
        ],
        [
         "29",
         "Francia",
         "Aquitania",
         "El Castillo",
         "42,218016",
         "-3,752806",
         "263"
        ],
        [
         "30",
         "Francia",
         "Occitania",
         "Altamira",
         "43,820792",
         "-4,887166",
         "159"
        ],
        [
         "31",
         "Italia",
         "Cantabria",
         "Niaux",
         "42,047257",
         "-3,807746",
         "80"
        ],
        [
         "32",
         "Portugal",
         "Cantabria",
         "Altamira",
         "42,36821",
         "-4,100716",
         "134"
        ],
        [
         "33",
         "Italia",
         "Cantabria",
         "Chauvet",
         "42,658486",
         "-4,628976",
         "390"
        ],
        [
         "34",
         "Portugal",
         "Occitania",
         "Lascaux",
         "43,450755",
         "-3,321746",
         "105"
        ],
        [
         "35",
         "Portugal",
         "Occitania",
         "Altamira",
         "42,005741",
         "-4,440387",
         "337"
        ],
        [
         "36",
         "Portugal",
         "Asturias",
         "El Castillo",
         "43,928542",
         "-4,585195",
         "94"
        ],
        [
         "37",
         "Portugal",
         "Piemonte",
         "El Castillo",
         "42,098515",
         "-4,053072",
         "148"
        ],
        [
         "38",
         "Italia",
         "Cantabria",
         "Niaux",
         "42,646618",
         "-3,52536",
         "260"
        ],
        [
         "39",
         "Italia",
         "Cantabria",
         "El Castillo",
         "42,496026",
         "-3,749183",
         "67"
        ],
        [
         "40",
         "Espa�a",
         "Asturias",
         "Lascaux",
         "42,928101",
         "-3,393324",
         "82"
        ],
        [
         "41",
         "Portugal",
         "Asturias",
         "Tito Bustillo",
         "43,797104",
         "-4,321861",
         "72"
        ],
        [
         "42",
         "Portugal",
         "Asturias",
         "Chauvet",
         "42,524345",
         "-3,566729",
         "51"
        ],
        [
         "43",
         "Espa�a",
         "Cantabria",
         "Lascaux",
         "43,443144",
         "-3,808864",
         "104"
        ],
        [
         "44",
         "Italia",
         "Asturias",
         "El Castillo",
         "42,950378",
         "-3,086445",
         "302"
        ],
        [
         "45",
         "Espa�a",
         "Asturias",
         "Niaux",
         "42,265415",
         "-4,006919",
         "127"
        ],
        [
         "46",
         "Portugal",
         "Occitania",
         "Chauvet",
         "43,214508",
         "-4,3444",
         "355"
        ],
        [
         "47",
         "Francia",
         "Aquitania",
         "El Castillo",
         "42,15803",
         "-4,605376",
         "83"
        ],
        [
         "48",
         "Portugal",
         "Aquitania",
         "El Castillo",
         "43,299092",
         "-4,03662",
         "103"
        ],
        [
         "49",
         "Espa�a",
         "Aquitania",
         "Altamira",
         "43,975648",
         "-4,470217",
         "265"
        ],
        [
         "50",
         "Italia",
         "Aquitania",
         "Lascaux",
         "42,996951",
         "-3,580458",
         "118"
        ],
        [
         "51",
         "Francia",
         "Piemonte",
         "Niaux",
         "42,833681",
         "-3,759385",
         "112"
        ],
        [
         "52",
         "Portugal",
         "Piemonte",
         "Chauvet",
         "43,559501",
         "-4,412153",
         "240"
        ],
        [
         "53",
         "Italia",
         "Aquitania",
         "Lascaux",
         "42,508113",
         "-4,47933",
         "175"
        ],
        [
         "54",
         "Francia",
         "Asturias",
         "Altamira",
         "42,471008",
         "-4,437292",
         "252"
        ],
        [
         "55",
         "Francia",
         "Cantabria",
         "Niaux",
         "42,503307",
         "-4,508102",
         "287"
        ],
        [
         "56",
         "Italia",
         "Aquitania",
         "El Castillo",
         "43,981911",
         "-4,795335",
         "241"
        ],
        [
         "57",
         "Espa�a",
         "Cantabria",
         "Lascaux",
         "42,080724",
         "-4,412645",
         "357"
        ],
        [
         "58",
         "Espa�a",
         "Asturias",
         "Tito Bustillo",
         "43,94593",
         "-3,833612",
         "141"
        ],
        [
         "59",
         "Espa�a",
         "Cantabria",
         "Niaux",
         "42,898228",
         "-4,480104",
         "355"
        ],
        [
         "60",
         "Espa�a",
         "Asturias",
         "Chauvet",
         "43,419412",
         "-4,300601",
         "122"
        ],
        [
         "61",
         "Espa�a",
         "Piemonte",
         "Niaux",
         "42,088333",
         "-3,000252",
         "383"
        ],
        [
         "62",
         "Portugal",
         "Occitania",
         "Niaux",
         "43,82791",
         "-3,370513",
         "240"
        ],
        [
         "63",
         "Francia",
         "Cantabria",
         "El Castillo",
         "42,37029",
         "-4,375609",
         "330"
        ],
        [
         "64",
         "Italia",
         "Piemonte",
         "Lascaux",
         "42,967014",
         "-4,18366",
         "377"
        ],
        [
         "65",
         "Italia",
         "Asturias",
         "El Castillo",
         "43,067994",
         "-3,693883",
         "195"
        ],
        [
         "66",
         "Espa�a",
         "Asturias",
         "Niaux",
         "43,335622",
         "-4,164309",
         "340"
        ],
        [
         "67",
         "Espa�a",
         "Asturias",
         "Niaux",
         "43,76739",
         "-4,17184",
         "150"
        ],
        [
         "68",
         "Espa�a",
         "Occitania",
         "Lascaux",
         "42,781462",
         "-4,190053",
         "266"
        ],
        [
         "69",
         "Portugal",
         "Occitania",
         "Lascaux",
         "42,227079",
         "-4,819024",
         "116"
        ],
        [
         "70",
         "Italia",
         "Cantabria",
         "Tito Bustillo",
         "42,029669",
         "-3,896904",
         "368"
        ],
        [
         "71",
         "Francia",
         "Aquitania",
         "Chauvet",
         "43,854455",
         "-3,525502",
         "195"
        ],
        [
         "72",
         "Espa�a",
         "Cantabria",
         "El Castillo",
         "42,323629",
         "-4,656429",
         "301"
        ],
        [
         "73",
         "Francia",
         "Asturias",
         "Lascaux",
         "43,507112",
         "-3,41571",
         "72"
        ],
        [
         "74",
         "Espa�a",
         "Piemonte",
         "Niaux",
         "43,951093",
         "-4,034527",
         "248"
        ],
        [
         "75",
         "Francia",
         "Aquitania",
         "Tito Bustillo",
         "42,172589",
         "-3,575379",
         "257"
        ],
        [
         "76",
         "Italia",
         "Aquitania",
         "Tito Bustillo",
         "43,229458",
         "-4,607774",
         "161"
        ],
        [
         "77",
         "Francia",
         "Occitania",
         "Chauvet",
         "42,083425",
         "-3,122902",
         "113"
        ],
        [
         "78",
         "Francia",
         "Cantabria",
         "Tito Bustillo",
         "42,298934",
         "-3,058615",
         "394"
        ],
        [
         "79",
         "Espa�a",
         "Occitania",
         "Tito Bustillo",
         "42,076257",
         "-3,323591",
         "283"
        ],
        [
         "80",
         "Portugal",
         "Occitania",
         "Chauvet",
         "43,100104",
         "-3,745915",
         "348"
        ],
        [
         "81",
         "Portugal",
         "Occitania",
         "Tito Bustillo",
         "42,498518",
         "-4,221576",
         "274"
        ],
        [
         "82",
         "Italia",
         "Occitania",
         "Lascaux",
         "42,357528",
         "-4,992984",
         "278"
        ],
        [
         "83",
         "Italia",
         "Aquitania",
         "El Castillo",
         "43,52713",
         "-3,44005",
         "254"
        ],
        [
         "84",
         "Italia",
         "Asturias",
         "Altamira",
         "42,214152",
         "-4,743088",
         "276"
        ],
        [
         "85",
         "Espa�a",
         "Aquitania",
         "Altamira",
         "43,008684",
         "-3,685808",
         "210"
        ],
        [
         "86",
         "Espa�a",
         "Piemonte",
         "El Castillo",
         "43,555272",
         "-3,977037",
         "384"
        ],
        [
         "87",
         "Espa�a",
         "Piemonte",
         "Niaux",
         "43,901736",
         "-4,727629",
         "106"
        ],
        [
         "88",
         "Italia",
         "Asturias",
         "Lascaux",
         "42,387415",
         "-3,036544",
         "163"
        ],
        [
         "89",
         "Portugal",
         "Aquitania",
         "Chauvet",
         "42,131032",
         "-4,298205",
         "364"
        ],
        [
         "90",
         "Francia",
         "Asturias",
         "Tito Bustillo",
         "42,549985",
         "-3,368747",
         "295"
        ],
        [
         "91",
         "Francia",
         "Asturias",
         "Chauvet",
         "42,416647",
         "-4,474265",
         "68"
        ],
        [
         "92",
         "Portugal",
         "Asturias",
         "El Castillo",
         "42,397884",
         "-4,193069",
         "136"
        ],
        [
         "93",
         "Espa�a",
         "Asturias",
         "El Castillo",
         "43,584248",
         "-4,471318",
         "334"
        ],
        [
         "94",
         "Espa�a",
         "Asturias",
         "Tito Bustillo",
         "43,042905",
         "-3,622543",
         "372"
        ],
        [
         "95",
         "Portugal",
         "Asturias",
         "El Castillo",
         "43,713199",
         "-3,524154",
         "238"
        ],
        [
         "96",
         "Espa�a",
         "Occitania",
         "Lascaux",
         "43,154721",
         "-4,279497",
         "140"
        ],
        [
         "97",
         "Portugal",
         "Piemonte",
         "Chauvet",
         "43,230747",
         "-3,08404",
         "208"
        ],
        [
         "98",
         "Portugal",
         "Cantabria",
         "Niaux",
         "43,278476",
         "-3,03189",
         "67"
        ],
        [
         "99",
         "Italia",
         "Occitania",
         "Tito Bustillo",
         "42,443275",
         "-4,418057",
         "236"
        ],
        [
         "100",
         "Francia",
         "Piemonte",
         "Niaux",
         "43,791085",
         "-4,735953",
         "73"
        ]
       ],
       "datasetInfos": [],
       "dbfsResultPath": null,
       "isJsonSchema": true,
       "metadata": {},
       "overflow": false,
       "plotOptions": {
        "customPlotOptions": {},
        "displayType": "table",
        "pivotAggregation": null,
        "pivotColumns": null,
        "xColumns": null,
        "yColumns": null
       },
       "removedWidgets": [],
       "schema": [
        {
         "metadata": "{}",
         "name": "id_pintura",
         "type": "\"string\""
        },
        {
         "metadata": "{}",
         "name": "pais",
         "type": "\"string\""
        },
        {
         "metadata": "{}",
         "name": "region",
         "type": "\"string\""
        },
        {
         "metadata": "{}",
         "name": "sitio_arqueologico",
         "type": "\"string\""
        },
        {
         "metadata": "{}",
         "name": "coordenada_lat",
         "type": "\"string\""
        },
        {
         "metadata": "{}",
         "name": "coordenada_lon",
         "type": "\"string\""
        },
        {
         "metadata": "{}",
         "name": "altitud_msnm",
         "type": "\"string\""
        }
       ],
       "type": "table"
      }
     },
     "output_type": "display_data"
    }
   ],
   "source": [
    "# /FileStore/tables/bigdata_2_2/db_geografico.csv\n",
    "# File location and type\n",
    "file_location = \"/FileStore/tables/bigdata_2_2/db_geografico.csv\"\n",
    "file_type = \"csv\"\n",
    "\n",
    "# CSV options\n",
    "infer_schema = \"false\"\n",
    "first_row_is_header = \"true\"\n",
    "delimiter = \";\"\n",
    "\n",
    "# The applied options are for CSV files. For other file types, these will be ignored.\n",
    "df_geo = spark.read.format(file_type) \\\n",
    "  .option(\"inferSchema\", infer_schema) \\\n",
    "  .option(\"header\", first_row_is_header) \\\n",
    "  .option(\"sep\", delimiter) \\\n",
    "  .load(file_location)\n",
    "\n",
    "display(df_geo)"
   ]
  }
 ],
 "metadata": {
  "application/vnd.databricks.v1+notebook": {
   "computePreferences": null,
   "dashboards": [],
   "environmentMetadata": {
    "base_environment": "",
    "environment_version": "1"
   },
   "inputWidgetPreferences": null,
   "language": "python",
   "notebookMetadata": {
    "pythonIndentUnit": 4
   },
   "notebookName": "Jabali aranido",
   "widgets": {}
  },
  "language_info": {
   "name": "python"
  }
 },
 "nbformat": 4,
 "nbformat_minor": 0
}